{
 "cells": [
  {
   "cell_type": "code",
   "execution_count": null,
   "metadata": {},
   "outputs": [],
   "source": []
  },
  {
   "cell_type": "code",
   "execution_count": 16,
   "metadata": {},
   "outputs": [
    {
     "name": "stdout",
     "output_type": "stream",
     "text": [
      "Nb keys : 154\n"
     ]
    }
   ],
   "source": [
    "import os\n",
    "import json\n",
    "import csv\n",
    "import numpy as np\n",
    "from math import *\n",
    "import PIL\n",
    "from PIL import Image\n",
    "\n",
    "def hachage (elt1, elt2):\n",
    "    resultat=\"0\"\n",
    "    if elt1>=elt2:\n",
    "        resultat=\"1\"\n",
    "    return resultat\n",
    "\n",
    "def algo (adresse):\n",
    "    \n",
    "    img = Image.open(adresse)\n",
    "    imgNG = img.convert('L')\n",
    "    #im2 = imgNG.resize((512,512))\n",
    "    width,height=imgNG.size\n",
    "    pixlong=height//3\n",
    "    pixlarg=width//3\n",
    "    imoy=np.zeros((3,3))\n",
    "    I=np.asarray(imgNG)\n",
    "    for i in range(3):\n",
    "        for j in range (3):\n",
    "            som=0\n",
    "            m=0\n",
    "            if i<2:\n",
    "                for k in range(pixlong*i+pixlong):\n",
    "                    for l in range(pixlarg*j+pixlarg):\n",
    "                        som=som+I[k][l]\n",
    "                        m+=1\n",
    "                som=som//m\n",
    "                imoy[i][j]=som\n",
    "            else:\n",
    "                if j<2:\n",
    "                    for k in range(pixlong*i+pixlong+height%3):\n",
    "                        for l in range(pixlarg*j+pixlarg):\n",
    "                            som=som+I[k][l]\n",
    "                            m+=1\n",
    "                    som=som//m\n",
    "                    imoy[i][j]=som\n",
    "                else:\n",
    "                    for k in range(pixlong*i+pixlong+height%3):\n",
    "                        for l in range(pixlarg*j+pixlarg+width%3):\n",
    "                            som=som+I[k][l]\n",
    "                            m+=1\n",
    "                    som=som/m\n",
    "                    imoy[i][j]=som\n",
    "    hashseq=str()\n",
    "    hashseq=hashseq+hachage (imoy[0][0],imoy[0][1])+hachage (imoy[0][1],imoy[1][0])+hachage (imoy[1][0],imoy[2][0])+hachage (imoy[2][0],imoy[1][1])+hachage (imoy[1][1],imoy[0][2])+hachage (imoy[0][2],imoy[1][2])+hachage (imoy[1][2],imoy[2][1])+hachage (imoy[2][1],imoy[2][2])\n",
    "    return hashseq\n",
    "\n",
    "def binary(a):\n",
    "    bnr = bin(a).replace('0b','')\n",
    "    x = bnr[::-1] \n",
    "    while len(x) < 8:\n",
    "        x += '0'\n",
    "        bnr = x[::-1]\n",
    "    return bnr\n",
    "\n",
    "datasetImg={}\n",
    "    \n",
    "if __name__=='__main__':\n",
    "    #lis=os.listdir(\"C:\\\\Users\\\\Administrateur\\\\Documents\\\\MASTER\\\\color_images\")\n",
    "    lis=os.listdir(\"C:\\\\Users\\\\Administrateur\\\\Downloads\\\\archive (1)\\\\comb\")\n",
    "    \n",
    "    for i in range(len(lis)):\n",
    "        #image= \"C:\\\\Users\\\\Administrateur\\\\Documents\\\\MASTER\\\\color_images\\\\\"+lis[i]\n",
    "        image= \"C:\\\\Users\\\\Administrateur\\\\Downloads\\\\archive (1)\\\\comb\\\\\"+lis[i] \n",
    "        key=algo(image)\n",
    "        \n",
    "        if key not in datasetImg.keys():\n",
    "            datasetImg[key] = []\n",
    "            \n",
    "        # print(key, datasetImg[key])\n",
    "        datasetImg[key].append(image)\n",
    "       \n",
    "        \n",
    "with open('datac2.json', 'w') as monfichier:\n",
    "        json.dump(datasetImg, monfichier)\n",
    "print('Nb keys :', len(datasetImg.keys()))      "
   ]
  },
  {
   "cell_type": "code",
   "execution_count": null,
   "metadata": {},
   "outputs": [],
   "source": []
  }
 ],
 "metadata": {
  "kernelspec": {
   "display_name": "Python 3",
   "language": "python",
   "name": "python3"
  },
  "language_info": {
   "codemirror_mode": {
    "name": "ipython",
    "version": 3
   },
   "file_extension": ".py",
   "mimetype": "text/x-python",
   "name": "python",
   "nbconvert_exporter": "python",
   "pygments_lexer": "ipython3",
   "version": "3.7.0"
  }
 },
 "nbformat": 4,
 "nbformat_minor": 2
}
